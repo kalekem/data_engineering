{
 "cells": [
  {
   "cell_type": "code",
   "execution_count": 3,
   "metadata": {},
   "outputs": [],
   "source": [
    "import boto3 #AWS SDK for Python, used to interact with Amazon S3\n",
    "import psycopg2 #PostgreSQL database adapter for Python\n",
    "import pandas as pd #Used to manipulate and load the CSV file into a DataFrame\n",
    "from io import StringIO #Allows treating strings as file-like objects, useful for handling CSV data in memory"
   ]
  },
  {
   "cell_type": "markdown",
   "metadata": {},
   "source": [
    "- Defines PostgreSQL database connection details including hostname, port, database name, username, and password \n",
    "- Specifies the table name where the data will be stored in PostgreSQL."
   ]
  },
  {
   "cell_type": "code",
   "execution_count": null,
   "metadata": {},
   "outputs": [],
   "source": [
    "PG_HOST = \"<host_name>\"\n",
    "PG_PORT = \"<port_number>\"\n",
    "PG_DATABASE = \"<db_name>\"\n",
    "PG_USER = \"<user_name>\"\n",
    "PG_PASSWORD = \"<password>\"\n",
    "TABLE_NAME = \"<table_name>\""
   ]
  },
  {
   "cell_type": "markdown",
   "metadata": {},
   "source": [
    "- Defines AWS S3 bucket name and the file path to the CSV file"
   ]
  },
  {
   "cell_type": "code",
   "execution_count": null,
   "metadata": {},
   "outputs": [],
   "source": [
    "# AWS S3 Configuration\n",
    "BUCKET_NAME = \"<bucket_name>\"\n",
    "FILE_NAME = \"path/to_file.csv>\""
   ]
  },
  {
   "cell_type": "markdown",
   "metadata": {},
   "source": [
    "- Creates an S3 client using boto3.client(\"s3\").\n",
    "- Retrieves the CSV file from S3 using s3.get_object().\n",
    "- Reads and decodes the file content into a string.\n",
    "- Handles errors gracefully—if an error occurs (e.g., wrong bucket name, missing file), it prints an error message and exits the script.\n",
    "- Converts the CSV data into a file-like object using StringIO(csv_data).\n"
   ]
  },
  {
   "cell_type": "code",
   "execution_count": 6,
   "metadata": {},
   "outputs": [
    {
     "name": "stdout",
     "output_type": "stream",
     "text": [
      "✅ Successfully retrieved file from S3.\n"
     ]
    }
   ],
   "source": [
    "# Step 1: Connect to S3 (Using Default AWS Credentials)\n",
    "try:\n",
    "    s3 = boto3.client(\"s3\")  # Credentials are picked up from environment or AWS CLI config\n",
    "    csv_obj = s3.get_object(Bucket=BUCKET_NAME, Key=FILE_NAME)\n",
    "    csv_data = csv_obj[\"Body\"].read().decode(\"utf-8\")\n",
    "    print(\"✅ Successfully retrieved file from S3.\")\n",
    "except Exception as e:\n",
    "    print(f\"Error retrieving file from S3: {e}\")\n",
    "    exit(1)"
   ]
  },
  {
   "cell_type": "markdown",
   "metadata": {},
   "source": [
    "- Loads the data into a Pandas DataFrame using pd.read_csv().\n",
    "- Handles errors—if the CSV format is incorrect or empty, it prints an error and exits."
   ]
  },
  {
   "cell_type": "code",
   "execution_count": null,
   "metadata": {},
   "outputs": [],
   "source": [
    "# Step 2: Load Data into Pandas DataFrame\n",
    "try:\n",
    "    df = pd.read_csv(StringIO(csv_data))\n",
    "    print(\"✅ Data successfully loaded into Pandas DataFrame.\")\n",
    "except Exception as e:\n",
    "    print(f\"Error loading data into Pandas: {e}\")\n",
    "    exit(1)"
   ]
  },
  {
   "cell_type": "markdown",
   "metadata": {},
   "source": [
    "- Attempts to connect to PostgreSQL using the provided credentials.\n",
    "- Creates a cursor (cur) to execute SQL commands.\n",
    "- Handles connection errors—if authentication or connectivity fails, it prints an error and exits."
   ]
  },
  {
   "cell_type": "code",
   "execution_count": 8,
   "metadata": {},
   "outputs": [
    {
     "name": "stdout",
     "output_type": "stream",
     "text": [
      "✅ Successfully connected to PostgreSQL.\n"
     ]
    }
   ],
   "source": [
    "# Step 3: Connect to PostgreSQL with Try-Except\n",
    "try:\n",
    "    conn = psycopg2.connect(\n",
    "        host=PG_HOST, database=PG_DATABASE, user=PG_USER, password=PG_PASSWORD, port=PG_PORT\n",
    "    )\n",
    "    cur = conn.cursor()\n",
    "    print(\"✅ Successfully connected to PostgreSQL.\")\n",
    "except psycopg2.Error as e:\n",
    "    print(f\"Error connecting to PostgreSQL: {e}\")\n",
    "    exit(1)"
   ]
  },
  {
   "cell_type": "markdown",
   "metadata": {},
   "source": [
    "- Dynamically generates a CREATE TABLE SQL statement based on the DataFrame's column names and data types.\n",
    "- Maps Pandas data types to SQL types (INTEGER, FLOAT, BOOLEAN, TEXT).\n",
    "- Executes the SQL command to create the table if it doesn’t already exist.\n",
    "- Handles errors—if table creation fails, the transaction is rolled back."
   ]
  },
  {
   "cell_type": "code",
   "execution_count": 12,
   "metadata": {},
   "outputs": [],
   "source": [
    "# Step 4: Create Table if Not Exists\n",
    "def create_table_from_dataframe(cursor, table_name, dataframe):\n",
    "    \"\"\"\n",
    "    Generates a CREATE TABLE statement dynamically from a Pandas DataFrame.\n",
    "    \"\"\"\n",
    "    column_types = []\n",
    "    for col, dtype in dataframe.dtypes.items():\n",
    "        if \"int\" in str(dtype):\n",
    "            sql_type = \"INTEGER\"\n",
    "        elif \"float\" in str(dtype):\n",
    "            sql_type = \"FLOAT\"\n",
    "        elif \"bool\" in str(dtype):\n",
    "            sql_type = \"BOOLEAN\"\n",
    "        else:\n",
    "            sql_type = \"TEXT\"  # Default to TEXT for strings and other types\n",
    "        column_types.append(f'\"{col}\" {sql_type}')\n",
    "\n",
    "    create_table_sql = f\"\"\"\n",
    "    CREATE TABLE IF NOT EXISTS {table_name} (\n",
    "        {', '.join(column_types)}\n",
    "    );\n",
    "    \"\"\"\n",
    "    try:\n",
    "        cursor.execute(create_table_sql)\n",
    "        print(f\"✅ Table '{table_name}' created or already exists.\")\n",
    "    except psycopg2.Error as e:\n",
    "        print(f\"Error creating table: {e}\")\n",
    "        conn.rollback()\n",
    "        exit(1)"
   ]
  },
  {
   "cell_type": "markdown",
   "metadata": {},
   "source": [
    "- Calls the function to create the table before inserting data"
   ]
  },
  {
   "cell_type": "code",
   "execution_count": null,
   "metadata": {},
   "outputs": [],
   "source": [
    "create_table_from_dataframe(cur, TABLE_NAME, df)\n",
    "\n",
    "conn.commit()"
   ]
  },
  {
   "cell_type": "markdown",
   "metadata": {},
   "source": [
    "- Converts the DataFrame into a CSV format using to_csv(), without headers\n",
    "- Uses StringIO to hold the CSV in memory instead of saving it to disk\n",
    "- Executes the COPY command to insert data efficiently into PostgreSQL\n",
    "- Handles errors—if insertion fails, the transaction is rolled back"
   ]
  },
  {
   "cell_type": "code",
   "execution_count": null,
   "metadata": {},
   "outputs": [],
   "source": [
    "\n",
    "\n",
    "# Step 5: Insert Data into PostgreSQL using COPY\n",
    "try:\n",
    "    buffer = StringIO()\n",
    "    df.to_csv(buffer, index=False, header=False)\n",
    "    buffer.seek(0)\n",
    "\n",
    "    copy_sql = f\"\"\"\n",
    "        COPY {TABLE_NAME} FROM STDIN WITH CSV DELIMITER ',' NULL '' \n",
    "    \"\"\"\n",
    "    cur.copy_expert(copy_sql, buffer)\n",
    "    print(f\"✅ Data successfully loaded into table '{TABLE_NAME}' in database '{PG_DATABASE}'.\")\n",
    "except psycopg2.Error as e:\n",
    "    print(f\"Error inserting data into PostgreSQL database '{PG_DATABASE}': {e}\")\n",
    "    conn.rollback()\n",
    "    exit(1)\n",
    "\n",
    "# Commit and Close Connection\n",
    "conn.commit()"
   ]
  },
  {
   "cell_type": "code",
   "execution_count": null,
   "metadata": {},
   "outputs": [],
   "source": []
  },
  {
   "cell_type": "markdown",
   "metadata": {},
   "source": [
    "- Runs a SELECT * FROM {TABLE_NAME} LIMIT 10; query to check if records were inserted\n",
    "- Fetches the first 10 rows and prints them\n",
    "- Handles errors—if querying fails, it prints an error message"
   ]
  },
  {
   "cell_type": "code",
   "execution_count": null,
   "metadata": {},
   "outputs": [],
   "source": [
    "# Step 6: Verify Records with SELECT Query\n",
    "try:\n",
    "    cur.execute(f\"SELECT * FROM {TABLE_NAME} LIMIT 10;\")\n",
    "    rows = cur.fetchall()\n",
    "    print(f\"✅ {len(rows)} records retrieved from '{TABLE_NAME}':\")\n",
    "    \n",
    "    # Print the retrieved rows\n",
    "    for row in rows:\n",
    "        print(row)\n",
    "except psycopg2.Error as e:\n",
    "    print(f\" Error executing SELECT query: {e}\")\n",
    "\n",
    "# Close Connection\n",
    "cur.close()\n",
    "conn.close()\n",
    "print(\"✅ Connection closed successfully.\")"
   ]
  }
 ],
 "metadata": {
  "kernelspec": {
   "display_name": "venv",
   "language": "python",
   "name": "python3"
  },
  "language_info": {
   "codemirror_mode": {
    "name": "ipython",
    "version": 3
   },
   "file_extension": ".py",
   "mimetype": "text/x-python",
   "name": "python",
   "nbconvert_exporter": "python",
   "pygments_lexer": "ipython3",
   "version": "3.11.6"
  }
 },
 "nbformat": 4,
 "nbformat_minor": 2
}
